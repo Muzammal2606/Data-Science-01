{
 "cells": [
  {
   "cell_type": "code",
   "execution_count": 1,
   "id": "415f49a7",
   "metadata": {},
   "outputs": [
    {
     "name": "stdout",
     "output_type": "stream",
     "text": [
      "Twinkle, twinkle, little star\n",
      "            How I wonder what you are\n",
      "                    Up above the world so high\n",
      "                    Like a diamond in the sky\n",
      "    Twinkle, twinkle, little star\n",
      "            How I wonder what you are \n"
     ]
    }
   ],
   "source": [
    "a=\"\"\"Twinkle, twinkle, little star\n",
    "            How I wonder what you are\n",
    "                    Up above the world so high\n",
    "                    Like a diamond in the sky\n",
    "    Twinkle, twinkle, little star\n",
    "            How I wonder what you are \"\"\";\n",
    "print(a);"
   ]
  },
  {
   "cell_type": "code",
   "execution_count": 2,
   "id": "080a4d43",
   "metadata": {},
   "outputs": [
    {
     "name": "stdout",
     "output_type": "stream",
     "text": [
      "Version is : 3.9.7 (default, Sep 16 2021, 16:59:28) [MSC v.1916 64 bit (AMD64)]\n"
     ]
    }
   ],
   "source": [
    "import sys\n",
    "print('Version is : ' + sys.version)"
   ]
  },
  {
   "cell_type": "code",
   "execution_count": 3,
   "id": "cf264466",
   "metadata": {},
   "outputs": [
    {
     "name": "stdout",
     "output_type": "stream",
     "text": [
      "2022-01-01 20:23:26.444213\n"
     ]
    }
   ],
   "source": [
    "import datetime\n",
    "a = datetime.datetime.now();\n",
    "print(a)"
   ]
  },
  {
   "cell_type": "code",
   "execution_count": 4,
   "id": "6c308f5e",
   "metadata": {},
   "outputs": [
    {
     "name": "stdout",
     "output_type": "stream",
     "text": [
      "Enter the Radius3\n",
      "Area is:28.274333882308138\n"
     ]
    }
   ],
   "source": [
    "from math import pi;\n",
    "r = float(input('Enter the Radius'));\n",
    "print('Area is:' + str(pi*r**2))"
   ]
  },
  {
   "cell_type": "code",
   "execution_count": 5,
   "id": "9e9467dd",
   "metadata": {},
   "outputs": [
    {
     "name": "stdout",
     "output_type": "stream",
     "text": [
      "Enter the Firstname: Ali\n",
      "Enter the Lastname: Hassan\n",
      "HassanAli\n"
     ]
    }
   ],
   "source": [
    "firstname = input('Enter the Firstname: ');\n",
    "lastname = input('Enter the Lastname: ');\n",
    "print(lastname  + firstname);"
   ]
  },
  {
   "cell_type": "code",
   "execution_count": 9,
   "id": "68e53328",
   "metadata": {},
   "outputs": [
    {
     "name": "stdout",
     "output_type": "stream",
     "text": [
      "First Number is : 5\n",
      "Last Number is : 6\n",
      "11\n"
     ]
    }
   ],
   "source": [
    "a = input('First Number is : ');\n",
    "b = input('Last Number is : ');\n",
    "c = int(a) + int(b);\n",
    "print(c);"
   ]
  },
  {
   "cell_type": "code",
   "execution_count": null,
   "id": "0a9bb563",
   "metadata": {},
   "outputs": [],
   "source": []
  },
  {
   "cell_type": "code",
   "execution_count": null,
   "id": "a8e3b330",
   "metadata": {},
   "outputs": [],
   "source": []
  }
 ],
 "metadata": {
  "kernelspec": {
   "display_name": "Python 3 (ipykernel)",
   "language": "python",
   "name": "python3"
  },
  "language_info": {
   "codemirror_mode": {
    "name": "ipython",
    "version": 3
   },
   "file_extension": ".py",
   "mimetype": "text/x-python",
   "name": "python",
   "nbconvert_exporter": "python",
   "pygments_lexer": "ipython3",
   "version": "3.9.7"
  }
 },
 "nbformat": 4,
 "nbformat_minor": 5
}
